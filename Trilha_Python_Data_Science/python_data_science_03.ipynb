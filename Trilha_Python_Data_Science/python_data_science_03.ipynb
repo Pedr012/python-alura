{
 "cells": [
  {
   "cell_type": "markdown",
   "id": "91004007",
   "metadata": {},
   "source": [
    "##### Carregamento do Dataset das Maças"
   ]
  },
  {
   "cell_type": "code",
   "execution_count": 8,
   "id": "e9031b2c",
   "metadata": {},
   "outputs": [],
   "source": [
    "import pandas as pd\n",
    "import numpy as np"
   ]
  },
  {
   "cell_type": "code",
   "execution_count": 10,
   "id": "5b38eecb",
   "metadata": {},
   "outputs": [
    {
     "data": {
      "text/plain": [
       "array([[  1.2013,   2.2013,   3.2013,   4.2013,   5.2013,   6.2013,\n",
       "          7.2013,   8.2013,   9.2013,  10.2013,  11.2013,  12.2013,\n",
       "          1.2014,   2.2014,   3.2014,   4.2014,   5.2014,   6.2014,\n",
       "          7.2014,   8.2014,   9.2014,  10.2014,  11.2014,  12.2014,\n",
       "          1.2015,   2.2015,   3.2015,   4.2015,   5.2015,   6.2015,\n",
       "          7.2015,   8.2015,   9.2015,  10.2015,  11.2015,  12.2015,\n",
       "          1.2016,   2.2016,   3.2016,   4.2016,   5.2016,   6.2016,\n",
       "          7.2016,   8.2016,   9.2016,  10.2016,  11.2016,  12.2016,\n",
       "          1.2017,   2.2017,   3.2017,   4.2017,   5.2017,   6.2017,\n",
       "          7.2017,   8.2017,   9.2017,  10.2017,  11.2017,  12.2017,\n",
       "          1.2018,   2.2018,   3.2018,   4.2018,   5.2018,   6.2018,\n",
       "          7.2018,   8.2018,   9.2018,  10.2018,  11.2018,  12.2018,\n",
       "          1.2019,   2.2019,   3.2019,   4.2019,   5.2019,   6.2019,\n",
       "          7.2019,   8.2019,   9.2019,  10.2019,  11.2019,  12.2019,\n",
       "          1.202 ,   2.202 ,   3.202 ],\n",
       "       [ 79.72  ,  81.08  ,  79.68  ,  79.8   ,  80.63  ,  80.8   ,\n",
       "         80.28  ,  78.99  ,  76.77  ,  76.09  ,  76.36  ,  77.16  ,\n",
       "         77.5   ,  79.03  ,  80.28  ,  80.05  ,  78.11  ,  76.9   ,\n",
       "         77.68  ,  76.05  ,  75.53  ,  73.39  ,  78.36  ,  89.16  ,\n",
       "        105.43  , 104.82  , 101.15  ,  98.63  ,  99.96  ,  97.29  ,\n",
       "         98.64  , 104.26  , 102.63  ,  98.64  ,  97.17  ,  98.09  ,\n",
       "        103.07  , 110.26  , 110.84  , 112.28  , 111.1   , 110.06  ,\n",
       "        113.7   , 112.88  , 102.08  ,  95.54  ,  91.33  ,  89.99  ,\n",
       "         91.44  ,  93.51  ,  93.6   ,  93.78  ,  98.91  , 121.76  ,\n",
       "        129.6   , 127.9   , 114.55  , 101.88  ,  99.09  , 103.35  ,\n",
       "        106.58  , 108.    , 114.95  , 121.17  , 122.48  , 127.58  ,\n",
       "        131.89  , 129.36  , 104.26  ,  93.45  ,  92.93  ,  96.15  ,\n",
       "         99.1   , 103.    , 103.31  , 103.01  , 107.37  , 116.91  ,\n",
       "        125.29  , 123.94  , 113.03  , 102.19  ,  97.83  , 101.07  ,\n",
       "        103.44  , 108.23  , 110.28  ],\n",
       "       [ 42.67  ,  44.37  ,  44.73  ,  46.75  ,      nan,  51.59  ,\n",
       "         57.8   ,  62.14  ,  56.76  ,  50.85  ,  46.43  ,  46.73  ,\n",
       "         45.85  ,  49.25  ,  48.14  ,  49.18  ,  49.49  ,  49.83  ,\n",
       "         49.14  ,  63.21  ,  61.2   ,  60.34  ,  62.2   ,  74.2   ,\n",
       "         75.32  ,  75.92  ,  72.89  ,  74.85  ,  92.19  ,  99.7   ,\n",
       "        102.78  ,  92.67  ,  90.63  ,  83.31  ,  75.5   ,  74.6   ,\n",
       "         76.94  ,  83.04  ,  80.74  ,  80.29  ,  82.82  ,  86.29  ,\n",
       "         87.41  ,  85.1   ,  78.08  ,  76.06  ,  69.23  ,  69.04  ,\n",
       "         64.48  ,  65.73  ,  67.2   ,  70.25  ,  82.59  ,  92.12  ,\n",
       "        100.82  ,  95.23  ,  89.51  ,  82.84  ,  82.3   ,  83.76  ,\n",
       "         84.72  ,  83.91  ,  99.14  , 101.6   , 113.03  , 119.54  ,\n",
       "        118.09  , 107.32  ,  82.6   ,  77.4   ,  71.77  ,  71.25  ,\n",
       "         71.35  ,  73.62  ,  76.2   ,  74.15  ,  75.67  ,  79.2   ,\n",
       "         80.85  ,  85.33  ,  75.02  ,  77.95  ,  78.98  ,  76.55  ,\n",
       "         74.89  ,  70.    ,  81.53  ],\n",
       "       [ 62.55  ,  62.73  ,  63.43  ,  63.83  ,  66.06  ,  69.22  ,\n",
       "         72.07  ,  69.31  ,  65.18  ,  62.13  ,  64.17  ,  65.5   ,\n",
       "         66.85  ,  68.38  ,  68.77  ,  69.32  ,  69.77  ,  70.17  ,\n",
       "         70.76  ,  75.16  ,  74.86  ,  71.47  ,  76.08  ,  82.11  ,\n",
       "         94.63  ,  98.54  ,  97.84  ,  94.54  ,  97.88  ,  97.73  ,\n",
       "        100.89  , 104.88  , 104.39  , 101.9   ,  98.99  ,  99.42  ,\n",
       "        106.37  , 113.89  , 114.78  , 115.6   , 115.89  , 117.66  ,\n",
       "        118.27  , 114.19  , 101.81  ,  91.62  ,  90.15  ,  90.55  ,\n",
       "         92.3   ,  91.75  ,  92.    ,  92.57  , 100.28  , 114.33  ,\n",
       "        122.17  , 117.83  , 112.49  ,  93.7   ,  97.17  ,  95.64  ,\n",
       "        102.21  , 107.58  , 110.48  , 117.73  , 122.07  , 128.58  ,\n",
       "        131.12  , 127.08  , 110.99  ,  97.43  ,  92.05  ,  93.21  ,\n",
       "         98.58  , 100.23  , 102.09  , 101.73  , 107.28  , 115.35  ,\n",
       "        123.03  , 123.08  , 109.71  ,  97.22  ,  95.75  ,  97.09  ,\n",
       "         98.18  , 103.1   , 110.6   ],\n",
       "       [ 48.26  ,  51.01  ,  50.91  ,  53.94  ,  61.27  ,  65.44  ,\n",
       "         56.51  ,  53.    ,  43.87  ,  42.12  ,  43.98  ,  44.66  ,\n",
       "         47.73  ,  52.31  ,  56.8   ,  51.15  ,  54.63  ,  55.8   ,\n",
       "         57.31  ,  53.81  ,  55.5   ,  52.95  ,  53.29  ,  54.86  ,\n",
       "         71.72  ,  74.36  ,  78.25  ,  70.63  ,  77.06  ,  81.52  ,\n",
       "         84.12  ,  83.33  ,  66.98  ,  62.04  ,  59.79  ,  66.06  ,\n",
       "         71.99  ,  76.79  ,  80.98  ,  89.18  ,  92.71  ,  94.85  ,\n",
       "         99.18  ,  86.33  ,  71.94  ,  67.18  ,  62.98  ,  69.45  ,\n",
       "         67.56  ,  67.92  ,  68.4   ,  67.97  ,  76.33  ,  95.79  ,\n",
       "        112.36  ,  82.03  ,  73.83  ,  66.12  ,  63.24  ,  63.98  ,\n",
       "         69.1   ,  70.04  ,  80.03  ,  87.92  ,  97.07  , 106.52  ,\n",
       "        108.93  ,  95.17  ,  74.31  ,  62.63  ,  69.92  ,  70.58  ,\n",
       "         74.63  ,  78.69  ,  81.82  ,  82.36  ,  89.44  , 102.01  ,\n",
       "        116.12  ,  92.06  ,  82.7   ,  66.62  ,  68.11  ,  73.48  ,\n",
       "         82.04  ,  81.19  ,  95.05  ],\n",
       "       [ 71.25  ,  71.35  ,  70.9   ,  71.92  ,  72.91  ,  74.39  ,\n",
       "         73.1   ,  70.24  ,  69.12  ,  68.98  ,  68.58  ,  69.5   ,\n",
       "         70.14  ,  70.58  ,  70.78  ,  72.78  ,  72.84  ,  74.74  ,\n",
       "         76.43  ,  81.2   ,  82.04  ,  79.67  ,  81.25  ,  85.88  ,\n",
       "         91.35  , 101.32  , 102.45  ,  98.18  , 105.1   , 104.85  ,\n",
       "        111.48  , 118.51  , 118.92  , 109.87  , 105.22  , 105.45  ,\n",
       "        115.61  , 116.61  , 120.39  , 119.2   , 119.92  , 120.57  ,\n",
       "        123.37  , 121.39  , 118.16  , 108.84  , 100.78  ,  99.92  ,\n",
       "        100.65  ,  98.92  , 100.31  ,  96.41  , 101.24  , 118.7   ,\n",
       "        133.29  , 130.31  , 122.4   , 104.98  , 107.54  , 110.74  ,\n",
       "        110.51  , 111.46  , 113.42  , 118.15  , 114.    , 124.91  ,\n",
       "        126.06  , 123.3   , 111.61  ,  98.82  ,  97.47  , 103.01  ,\n",
       "        109.36  , 104.79  , 105.09  , 103.16  , 106.52  , 121.68  ,\n",
       "        125.32  , 123.41  , 108.48  ,  98.73  ,  96.25  , 100.12  ,\n",
       "        101.29  , 102.81  , 108.53  ]])"
      ]
     },
     "execution_count": 10,
     "metadata": {},
     "output_type": "execute_result"
    }
   ],
   "source": [
    "path = r'E:\\Documentos\\Pós Tech\\python-alura\\Alura\\Python_Data_Science\\Trilha_Python_Data_Science\\numpy_dados_03\\numpy-dados\\apples_ts.csv'\n",
    "\n",
    "df_macas = np.loadtxt(path, delimiter=',', usecols= np.arange(1, 88, 1) )\n",
    "df_macas"
   ]
  },
  {
   "cell_type": "code",
   "execution_count": null,
   "id": "ccfe2694",
   "metadata": {},
   "outputs": [
    {
     "data": {
      "text/plain": [
       "array([ 1,  2,  3,  4,  5,  6,  7,  8,  9, 10, 11, 12, 13, 14, 15, 16, 17,\n",
       "       18, 19, 20, 21, 22, 23, 24, 25, 26, 27, 28, 29, 30, 31, 32, 33, 34,\n",
       "       35, 36, 37, 38, 39, 40, 41, 42, 43, 44, 45, 46, 47, 48, 49, 50, 51,\n",
       "       52, 53, 54, 55, 56, 57, 58, 59, 60, 61, 62, 63, 64, 65, 66, 67, 68,\n",
       "       69, 70, 71, 72, 73, 74, 75, 76, 77, 78, 79, 80, 81, 82, 83, 84, 85,\n",
       "       86, 87])"
      ]
     },
     "execution_count": 9,
     "metadata": {},
     "output_type": "execute_result"
    }
   ],
   "source": [
    "np.arange(1, 88, 1) #Função que cria um array"
   ]
  },
  {
   "cell_type": "code",
   "execution_count": null,
   "id": "18fea429",
   "metadata": {},
   "outputs": [
    {
     "name": "stdout",
     "output_type": "stream",
     "text": [
      "Tempo da operação com a lista:  0.05600166320800781\n",
      "Tempo da operação com o array:  0.002000570297241211\n"
     ]
    }
   ],
   "source": [
    "# Exemplo de demonstração da diferença de performance entre listas e arrays.\n",
    "\n",
    "import numpy as np\n",
    "import time\n",
    "\n",
    "# cria uma lista com 1000000 elementos\n",
    "lista = list(range(1000000))\n",
    "\n",
    "# transforma a lista em um array Numpy\n",
    "array = np.array(lista)\n",
    "\n",
    "# começa a cronometrar o tempo para a operação com a lista\n",
    "start_time = time.time()\n",
    "\n",
    "# realiza a operação de elevar ao quadrado cada elemento da lista\n",
    "lista_quadrado = [i**2 for i in lista]\n",
    "\n",
    "# para o cronômetro\n",
    "list_time = time.time() - start_time\n",
    "\n",
    "# começa a cronometrar o tempo para a operação com o array\n",
    "start_time = time.time()\n",
    "\n",
    "# realiza a operação de elevar ao quadrado cada elemento do array\n",
    "array_quadrado = array**2\n",
    "\n",
    "# para o cronômetro\n",
    "array_time = time.time() - start_time\n",
    "\n",
    "print(\"Tempo da operação com a lista: \", list_time)\n",
    "print(\"Tempo da operação com o array: \", array_time)"
   ]
  },
  {
   "cell_type": "code",
   "execution_count": 14,
   "id": "982bffb0",
   "metadata": {},
   "outputs": [
    {
     "data": {
      "text/plain": [
       "array([[  1.2013,   2.2013,   3.2013,   4.2013,   5.2013,   6.2013,\n",
       "          7.2013,   8.2013,   9.2013,  10.2013,  11.2013,  12.2013,\n",
       "          1.2014,   2.2014,   3.2014,   4.2014,   5.2014,   6.2014,\n",
       "          7.2014,   8.2014,   9.2014,  10.2014,  11.2014,  12.2014,\n",
       "          1.2015,   2.2015,   3.2015,   4.2015,   5.2015,   6.2015,\n",
       "          7.2015,   8.2015,   9.2015,  10.2015,  11.2015,  12.2015,\n",
       "          1.2016,   2.2016,   3.2016,   4.2016,   5.2016,   6.2016,\n",
       "          7.2016,   8.2016,   9.2016,  10.2016,  11.2016,  12.2016,\n",
       "          1.2017,   2.2017,   3.2017,   4.2017,   5.2017,   6.2017,\n",
       "          7.2017,   8.2017,   9.2017,  10.2017,  11.2017,  12.2017,\n",
       "          1.2018,   2.2018,   3.2018,   4.2018,   5.2018,   6.2018,\n",
       "          7.2018,   8.2018,   9.2018,  10.2018,  11.2018,  12.2018,\n",
       "          1.2019,   2.2019,   3.2019,   4.2019,   5.2019,   6.2019,\n",
       "          7.2019,   8.2019,   9.2019,  10.2019,  11.2019,  12.2019,\n",
       "          1.202 ,   2.202 ,   3.202 ],\n",
       "       [ 79.72  ,  81.08  ,  79.68  ,  79.8   ,  80.63  ,  80.8   ,\n",
       "         80.28  ,  78.99  ,  76.77  ,  76.09  ,  76.36  ,  77.16  ,\n",
       "         77.5   ,  79.03  ,  80.28  ,  80.05  ,  78.11  ,  76.9   ,\n",
       "         77.68  ,  76.05  ,  75.53  ,  73.39  ,  78.36  ,  89.16  ,\n",
       "        105.43  , 104.82  , 101.15  ,  98.63  ,  99.96  ,  97.29  ,\n",
       "         98.64  , 104.26  , 102.63  ,  98.64  ,  97.17  ,  98.09  ,\n",
       "        103.07  , 110.26  , 110.84  , 112.28  , 111.1   , 110.06  ,\n",
       "        113.7   , 112.88  , 102.08  ,  95.54  ,  91.33  ,  89.99  ,\n",
       "         91.44  ,  93.51  ,  93.6   ,  93.78  ,  98.91  , 121.76  ,\n",
       "        129.6   , 127.9   , 114.55  , 101.88  ,  99.09  , 103.35  ,\n",
       "        106.58  , 108.    , 114.95  , 121.17  , 122.48  , 127.58  ,\n",
       "        131.89  , 129.36  , 104.26  ,  93.45  ,  92.93  ,  96.15  ,\n",
       "         99.1   , 103.    , 103.31  , 103.01  , 107.37  , 116.91  ,\n",
       "        125.29  , 123.94  , 113.03  , 102.19  ,  97.83  , 101.07  ,\n",
       "        103.44  , 108.23  , 110.28  ],\n",
       "       [ 42.67  ,  44.37  ,  44.73  ,  46.75  ,      nan,  51.59  ,\n",
       "         57.8   ,  62.14  ,  56.76  ,  50.85  ,  46.43  ,  46.73  ,\n",
       "         45.85  ,  49.25  ,  48.14  ,  49.18  ,  49.49  ,  49.83  ,\n",
       "         49.14  ,  63.21  ,  61.2   ,  60.34  ,  62.2   ,  74.2   ,\n",
       "         75.32  ,  75.92  ,  72.89  ,  74.85  ,  92.19  ,  99.7   ,\n",
       "        102.78  ,  92.67  ,  90.63  ,  83.31  ,  75.5   ,  74.6   ,\n",
       "         76.94  ,  83.04  ,  80.74  ,  80.29  ,  82.82  ,  86.29  ,\n",
       "         87.41  ,  85.1   ,  78.08  ,  76.06  ,  69.23  ,  69.04  ,\n",
       "         64.48  ,  65.73  ,  67.2   ,  70.25  ,  82.59  ,  92.12  ,\n",
       "        100.82  ,  95.23  ,  89.51  ,  82.84  ,  82.3   ,  83.76  ,\n",
       "         84.72  ,  83.91  ,  99.14  , 101.6   , 113.03  , 119.54  ,\n",
       "        118.09  , 107.32  ,  82.6   ,  77.4   ,  71.77  ,  71.25  ,\n",
       "         71.35  ,  73.62  ,  76.2   ,  74.15  ,  75.67  ,  79.2   ,\n",
       "         80.85  ,  85.33  ,  75.02  ,  77.95  ,  78.98  ,  76.55  ,\n",
       "         74.89  ,  70.    ,  81.53  ],\n",
       "       [ 62.55  ,  62.73  ,  63.43  ,  63.83  ,  66.06  ,  69.22  ,\n",
       "         72.07  ,  69.31  ,  65.18  ,  62.13  ,  64.17  ,  65.5   ,\n",
       "         66.85  ,  68.38  ,  68.77  ,  69.32  ,  69.77  ,  70.17  ,\n",
       "         70.76  ,  75.16  ,  74.86  ,  71.47  ,  76.08  ,  82.11  ,\n",
       "         94.63  ,  98.54  ,  97.84  ,  94.54  ,  97.88  ,  97.73  ,\n",
       "        100.89  , 104.88  , 104.39  , 101.9   ,  98.99  ,  99.42  ,\n",
       "        106.37  , 113.89  , 114.78  , 115.6   , 115.89  , 117.66  ,\n",
       "        118.27  , 114.19  , 101.81  ,  91.62  ,  90.15  ,  90.55  ,\n",
       "         92.3   ,  91.75  ,  92.    ,  92.57  , 100.28  , 114.33  ,\n",
       "        122.17  , 117.83  , 112.49  ,  93.7   ,  97.17  ,  95.64  ,\n",
       "        102.21  , 107.58  , 110.48  , 117.73  , 122.07  , 128.58  ,\n",
       "        131.12  , 127.08  , 110.99  ,  97.43  ,  92.05  ,  93.21  ,\n",
       "         98.58  , 100.23  , 102.09  , 101.73  , 107.28  , 115.35  ,\n",
       "        123.03  , 123.08  , 109.71  ,  97.22  ,  95.75  ,  97.09  ,\n",
       "         98.18  , 103.1   , 110.6   ],\n",
       "       [ 48.26  ,  51.01  ,  50.91  ,  53.94  ,  61.27  ,  65.44  ,\n",
       "         56.51  ,  53.    ,  43.87  ,  42.12  ,  43.98  ,  44.66  ,\n",
       "         47.73  ,  52.31  ,  56.8   ,  51.15  ,  54.63  ,  55.8   ,\n",
       "         57.31  ,  53.81  ,  55.5   ,  52.95  ,  53.29  ,  54.86  ,\n",
       "         71.72  ,  74.36  ,  78.25  ,  70.63  ,  77.06  ,  81.52  ,\n",
       "         84.12  ,  83.33  ,  66.98  ,  62.04  ,  59.79  ,  66.06  ,\n",
       "         71.99  ,  76.79  ,  80.98  ,  89.18  ,  92.71  ,  94.85  ,\n",
       "         99.18  ,  86.33  ,  71.94  ,  67.18  ,  62.98  ,  69.45  ,\n",
       "         67.56  ,  67.92  ,  68.4   ,  67.97  ,  76.33  ,  95.79  ,\n",
       "        112.36  ,  82.03  ,  73.83  ,  66.12  ,  63.24  ,  63.98  ,\n",
       "         69.1   ,  70.04  ,  80.03  ,  87.92  ,  97.07  , 106.52  ,\n",
       "        108.93  ,  95.17  ,  74.31  ,  62.63  ,  69.92  ,  70.58  ,\n",
       "         74.63  ,  78.69  ,  81.82  ,  82.36  ,  89.44  , 102.01  ,\n",
       "        116.12  ,  92.06  ,  82.7   ,  66.62  ,  68.11  ,  73.48  ,\n",
       "         82.04  ,  81.19  ,  95.05  ],\n",
       "       [ 71.25  ,  71.35  ,  70.9   ,  71.92  ,  72.91  ,  74.39  ,\n",
       "         73.1   ,  70.24  ,  69.12  ,  68.98  ,  68.58  ,  69.5   ,\n",
       "         70.14  ,  70.58  ,  70.78  ,  72.78  ,  72.84  ,  74.74  ,\n",
       "         76.43  ,  81.2   ,  82.04  ,  79.67  ,  81.25  ,  85.88  ,\n",
       "         91.35  , 101.32  , 102.45  ,  98.18  , 105.1   , 104.85  ,\n",
       "        111.48  , 118.51  , 118.92  , 109.87  , 105.22  , 105.45  ,\n",
       "        115.61  , 116.61  , 120.39  , 119.2   , 119.92  , 120.57  ,\n",
       "        123.37  , 121.39  , 118.16  , 108.84  , 100.78  ,  99.92  ,\n",
       "        100.65  ,  98.92  , 100.31  ,  96.41  , 101.24  , 118.7   ,\n",
       "        133.29  , 130.31  , 122.4   , 104.98  , 107.54  , 110.74  ,\n",
       "        110.51  , 111.46  , 113.42  , 118.15  , 114.    , 124.91  ,\n",
       "        126.06  , 123.3   , 111.61  ,  98.82  ,  97.47  , 103.01  ,\n",
       "        109.36  , 104.79  , 105.09  , 103.16  , 106.52  , 121.68  ,\n",
       "        125.32  , 123.41  , 108.48  ,  98.73  ,  96.25  , 100.12  ,\n",
       "        101.29  , 102.81  , 108.53  ]])"
      ]
     },
     "execution_count": 14,
     "metadata": {},
     "output_type": "execute_result"
    }
   ],
   "source": [
    "df_macas"
   ]
  },
  {
   "cell_type": "code",
   "execution_count": 15,
   "id": "ecd16528",
   "metadata": {},
   "outputs": [
    {
     "data": {
      "text/plain": [
       "2"
      ]
     },
     "execution_count": 15,
     "metadata": {},
     "output_type": "execute_result"
    }
   ],
   "source": [
    "#ndim mostra a quantidade de dimensões do dado\n",
    "df_macas.ndim"
   ]
  },
  {
   "cell_type": "code",
   "execution_count": 18,
   "id": "2c72de99",
   "metadata": {},
   "outputs": [
    {
     "data": {
      "text/plain": [
       "522"
      ]
     },
     "execution_count": 18,
     "metadata": {},
     "output_type": "execute_result"
    }
   ],
   "source": [
    "#Size mostra a quantidade de dados\n",
    "df_macas.size"
   ]
  },
  {
   "cell_type": "code",
   "execution_count": 19,
   "id": "9bd594a5",
   "metadata": {},
   "outputs": [
    {
     "data": {
      "text/plain": [
       "(6, 87)"
      ]
     },
     "execution_count": 19,
     "metadata": {},
     "output_type": "execute_result"
    }
   ],
   "source": [
    "#Shape verifica o número de elementos em cada camada dimensão\n",
    "df_macas.shape"
   ]
  },
  {
   "cell_type": "code",
   "execution_count": 22,
   "id": "80352435",
   "metadata": {},
   "outputs": [
    {
     "data": {
      "text/plain": [
       "array([[  1.2013,  79.72  ,  42.67  ,  62.55  ,  48.26  ,  71.25  ],\n",
       "       [  2.2013,  81.08  ,  44.37  ,  62.73  ,  51.01  ,  71.35  ],\n",
       "       [  3.2013,  79.68  ,  44.73  ,  63.43  ,  50.91  ,  70.9   ],\n",
       "       [  4.2013,  79.8   ,  46.75  ,  63.83  ,  53.94  ,  71.92  ],\n",
       "       [  5.2013,  80.63  ,      nan,  66.06  ,  61.27  ,  72.91  ],\n",
       "       [  6.2013,  80.8   ,  51.59  ,  69.22  ,  65.44  ,  74.39  ],\n",
       "       [  7.2013,  80.28  ,  57.8   ,  72.07  ,  56.51  ,  73.1   ],\n",
       "       [  8.2013,  78.99  ,  62.14  ,  69.31  ,  53.    ,  70.24  ],\n",
       "       [  9.2013,  76.77  ,  56.76  ,  65.18  ,  43.87  ,  69.12  ],\n",
       "       [ 10.2013,  76.09  ,  50.85  ,  62.13  ,  42.12  ,  68.98  ],\n",
       "       [ 11.2013,  76.36  ,  46.43  ,  64.17  ,  43.98  ,  68.58  ],\n",
       "       [ 12.2013,  77.16  ,  46.73  ,  65.5   ,  44.66  ,  69.5   ],\n",
       "       [  1.2014,  77.5   ,  45.85  ,  66.85  ,  47.73  ,  70.14  ],\n",
       "       [  2.2014,  79.03  ,  49.25  ,  68.38  ,  52.31  ,  70.58  ],\n",
       "       [  3.2014,  80.28  ,  48.14  ,  68.77  ,  56.8   ,  70.78  ],\n",
       "       [  4.2014,  80.05  ,  49.18  ,  69.32  ,  51.15  ,  72.78  ],\n",
       "       [  5.2014,  78.11  ,  49.49  ,  69.77  ,  54.63  ,  72.84  ],\n",
       "       [  6.2014,  76.9   ,  49.83  ,  70.17  ,  55.8   ,  74.74  ],\n",
       "       [  7.2014,  77.68  ,  49.14  ,  70.76  ,  57.31  ,  76.43  ],\n",
       "       [  8.2014,  76.05  ,  63.21  ,  75.16  ,  53.81  ,  81.2   ],\n",
       "       [  9.2014,  75.53  ,  61.2   ,  74.86  ,  55.5   ,  82.04  ],\n",
       "       [ 10.2014,  73.39  ,  60.34  ,  71.47  ,  52.95  ,  79.67  ],\n",
       "       [ 11.2014,  78.36  ,  62.2   ,  76.08  ,  53.29  ,  81.25  ],\n",
       "       [ 12.2014,  89.16  ,  74.2   ,  82.11  ,  54.86  ,  85.88  ],\n",
       "       [  1.2015, 105.43  ,  75.32  ,  94.63  ,  71.72  ,  91.35  ],\n",
       "       [  2.2015, 104.82  ,  75.92  ,  98.54  ,  74.36  , 101.32  ],\n",
       "       [  3.2015, 101.15  ,  72.89  ,  97.84  ,  78.25  , 102.45  ],\n",
       "       [  4.2015,  98.63  ,  74.85  ,  94.54  ,  70.63  ,  98.18  ],\n",
       "       [  5.2015,  99.96  ,  92.19  ,  97.88  ,  77.06  , 105.1   ],\n",
       "       [  6.2015,  97.29  ,  99.7   ,  97.73  ,  81.52  , 104.85  ],\n",
       "       [  7.2015,  98.64  , 102.78  , 100.89  ,  84.12  , 111.48  ],\n",
       "       [  8.2015, 104.26  ,  92.67  , 104.88  ,  83.33  , 118.51  ],\n",
       "       [  9.2015, 102.63  ,  90.63  , 104.39  ,  66.98  , 118.92  ],\n",
       "       [ 10.2015,  98.64  ,  83.31  , 101.9   ,  62.04  , 109.87  ],\n",
       "       [ 11.2015,  97.17  ,  75.5   ,  98.99  ,  59.79  , 105.22  ],\n",
       "       [ 12.2015,  98.09  ,  74.6   ,  99.42  ,  66.06  , 105.45  ],\n",
       "       [  1.2016, 103.07  ,  76.94  , 106.37  ,  71.99  , 115.61  ],\n",
       "       [  2.2016, 110.26  ,  83.04  , 113.89  ,  76.79  , 116.61  ],\n",
       "       [  3.2016, 110.84  ,  80.74  , 114.78  ,  80.98  , 120.39  ],\n",
       "       [  4.2016, 112.28  ,  80.29  , 115.6   ,  89.18  , 119.2   ],\n",
       "       [  5.2016, 111.1   ,  82.82  , 115.89  ,  92.71  , 119.92  ],\n",
       "       [  6.2016, 110.06  ,  86.29  , 117.66  ,  94.85  , 120.57  ],\n",
       "       [  7.2016, 113.7   ,  87.41  , 118.27  ,  99.18  , 123.37  ],\n",
       "       [  8.2016, 112.88  ,  85.1   , 114.19  ,  86.33  , 121.39  ],\n",
       "       [  9.2016, 102.08  ,  78.08  , 101.81  ,  71.94  , 118.16  ],\n",
       "       [ 10.2016,  95.54  ,  76.06  ,  91.62  ,  67.18  , 108.84  ],\n",
       "       [ 11.2016,  91.33  ,  69.23  ,  90.15  ,  62.98  , 100.78  ],\n",
       "       [ 12.2016,  89.99  ,  69.04  ,  90.55  ,  69.45  ,  99.92  ],\n",
       "       [  1.2017,  91.44  ,  64.48  ,  92.3   ,  67.56  , 100.65  ],\n",
       "       [  2.2017,  93.51  ,  65.73  ,  91.75  ,  67.92  ,  98.92  ],\n",
       "       [  3.2017,  93.6   ,  67.2   ,  92.    ,  68.4   , 100.31  ],\n",
       "       [  4.2017,  93.78  ,  70.25  ,  92.57  ,  67.97  ,  96.41  ],\n",
       "       [  5.2017,  98.91  ,  82.59  , 100.28  ,  76.33  , 101.24  ],\n",
       "       [  6.2017, 121.76  ,  92.12  , 114.33  ,  95.79  , 118.7   ],\n",
       "       [  7.2017, 129.6   , 100.82  , 122.17  , 112.36  , 133.29  ],\n",
       "       [  8.2017, 127.9   ,  95.23  , 117.83  ,  82.03  , 130.31  ],\n",
       "       [  9.2017, 114.55  ,  89.51  , 112.49  ,  73.83  , 122.4   ],\n",
       "       [ 10.2017, 101.88  ,  82.84  ,  93.7   ,  66.12  , 104.98  ],\n",
       "       [ 11.2017,  99.09  ,  82.3   ,  97.17  ,  63.24  , 107.54  ],\n",
       "       [ 12.2017, 103.35  ,  83.76  ,  95.64  ,  63.98  , 110.74  ],\n",
       "       [  1.2018, 106.58  ,  84.72  , 102.21  ,  69.1   , 110.51  ],\n",
       "       [  2.2018, 108.    ,  83.91  , 107.58  ,  70.04  , 111.46  ],\n",
       "       [  3.2018, 114.95  ,  99.14  , 110.48  ,  80.03  , 113.42  ],\n",
       "       [  4.2018, 121.17  , 101.6   , 117.73  ,  87.92  , 118.15  ],\n",
       "       [  5.2018, 122.48  , 113.03  , 122.07  ,  97.07  , 114.    ],\n",
       "       [  6.2018, 127.58  , 119.54  , 128.58  , 106.52  , 124.91  ],\n",
       "       [  7.2018, 131.89  , 118.09  , 131.12  , 108.93  , 126.06  ],\n",
       "       [  8.2018, 129.36  , 107.32  , 127.08  ,  95.17  , 123.3   ],\n",
       "       [  9.2018, 104.26  ,  82.6   , 110.99  ,  74.31  , 111.61  ],\n",
       "       [ 10.2018,  93.45  ,  77.4   ,  97.43  ,  62.63  ,  98.82  ],\n",
       "       [ 11.2018,  92.93  ,  71.77  ,  92.05  ,  69.92  ,  97.47  ],\n",
       "       [ 12.2018,  96.15  ,  71.25  ,  93.21  ,  70.58  , 103.01  ],\n",
       "       [  1.2019,  99.1   ,  71.35  ,  98.58  ,  74.63  , 109.36  ],\n",
       "       [  2.2019, 103.    ,  73.62  , 100.23  ,  78.69  , 104.79  ],\n",
       "       [  3.2019, 103.31  ,  76.2   , 102.09  ,  81.82  , 105.09  ],\n",
       "       [  4.2019, 103.01  ,  74.15  , 101.73  ,  82.36  , 103.16  ],\n",
       "       [  5.2019, 107.37  ,  75.67  , 107.28  ,  89.44  , 106.52  ],\n",
       "       [  6.2019, 116.91  ,  79.2   , 115.35  , 102.01  , 121.68  ],\n",
       "       [  7.2019, 125.29  ,  80.85  , 123.03  , 116.12  , 125.32  ],\n",
       "       [  8.2019, 123.94  ,  85.33  , 123.08  ,  92.06  , 123.41  ],\n",
       "       [  9.2019, 113.03  ,  75.02  , 109.71  ,  82.7   , 108.48  ],\n",
       "       [ 10.2019, 102.19  ,  77.95  ,  97.22  ,  66.62  ,  98.73  ],\n",
       "       [ 11.2019,  97.83  ,  78.98  ,  95.75  ,  68.11  ,  96.25  ],\n",
       "       [ 12.2019, 101.07  ,  76.55  ,  97.09  ,  73.48  , 100.12  ],\n",
       "       [  1.202 , 103.44  ,  74.89  ,  98.18  ,  82.04  , 101.29  ],\n",
       "       [  2.202 , 108.23  ,  70.    , 103.1   ,  81.19  , 102.81  ],\n",
       "       [  3.202 , 110.28  ,  81.53  , 110.6   ,  95.05  , 108.53  ]])"
      ]
     },
     "execution_count": 22,
     "metadata": {},
     "output_type": "execute_result"
    }
   ],
   "source": [
    "#Transformar em linhas para colunas, transposição\n",
    "df_macas_t = df_macas.T\n",
    "df_macas_t"
   ]
  },
  {
   "cell_type": "markdown",
   "id": "cbc3ff61",
   "metadata": {},
   "source": [
    "##### Carregando o arquivo teste desafio oranges"
   ]
  },
  {
   "cell_type": "code",
   "execution_count": 28,
   "id": "0b2b8dd2",
   "metadata": {},
   "outputs": [
    {
     "name": "stdout",
     "output_type": "stream",
     "text": [
      "[[  2.96  86.76 172.    85.     2.  ]\n",
      " [  3.91  88.05 166.    78.     3.  ]\n",
      " [  4.42  95.17 156.    81.     2.  ]\n",
      " ...\n",
      " [ 15.59 256.5  168.    82.    20.  ]\n",
      " [ 15.92 260.14 142.    72.    11.  ]\n",
      " [ 16.45 261.51 152.    74.     2.  ]]\n"
     ]
    }
   ],
   "source": [
    "import numpy as np\n",
    "\n",
    "# URL do arquivo CSV\n",
    "url = 'https://raw.githubusercontent.com/allanspadini/numpy/dados/citrus.csv'\n",
    "\n",
    "dados_orange = np.loadtxt(\n",
    "    url,\n",
    "    delimiter=',',\n",
    "    usecols=np.arange(1, 6, 1),  # ignora a primeira coluna\n",
    "    skiprows=1                # ignora o cabeçalho\n",
    ")\n",
    "\n",
    "print(dados_orange)"
   ]
  },
  {
   "cell_type": "code",
   "execution_count": null,
   "id": "e305b9d1",
   "metadata": {},
   "outputs": [
    {
     "data": {
      "text/plain": [
       "array([ 1.2013,  2.2013,  3.2013,  4.2013,  5.2013,  6.2013,  7.2013,\n",
       "        8.2013,  9.2013, 10.2013, 11.2013, 12.2013,  1.2014,  2.2014,\n",
       "        3.2014,  4.2014,  5.2014,  6.2014,  7.2014,  8.2014,  9.2014,\n",
       "       10.2014, 11.2014, 12.2014,  1.2015,  2.2015,  3.2015,  4.2015,\n",
       "        5.2015,  6.2015,  7.2015,  8.2015,  9.2015, 10.2015, 11.2015,\n",
       "       12.2015,  1.2016,  2.2016,  3.2016,  4.2016,  5.2016,  6.2016,\n",
       "        7.2016,  8.2016,  9.2016, 10.2016, 11.2016, 12.2016,  1.2017,\n",
       "        2.2017,  3.2017,  4.2017,  5.2017,  6.2017,  7.2017,  8.2017,\n",
       "        9.2017, 10.2017, 11.2017, 12.2017,  1.2018,  2.2018,  3.2018,\n",
       "        4.2018,  5.2018,  6.2018,  7.2018,  8.2018,  9.2018, 10.2018,\n",
       "       11.2018, 12.2018,  1.2019,  2.2019,  3.2019,  4.2019,  5.2019,\n",
       "        6.2019,  7.2019,  8.2019,  9.2019, 10.2019, 11.2019, 12.2019,\n",
       "        1.202 ,  2.202 ,  3.202 ])"
      ]
     },
     "execution_count": 32,
     "metadata": {},
     "output_type": "execute_result"
    }
   ],
   "source": [
    "#Voltando ao dados macas, pegando as datas\n",
    "datas = df_macas_t[:,0]\n",
    "datas"
   ]
  },
  {
   "cell_type": "code",
   "execution_count": 34,
   "id": "f010c011",
   "metadata": {},
   "outputs": [
    {
     "data": {
      "text/plain": [
       "array([[ 79.72,  42.67,  62.55,  48.26,  71.25],\n",
       "       [ 81.08,  44.37,  62.73,  51.01,  71.35],\n",
       "       [ 79.68,  44.73,  63.43,  50.91,  70.9 ],\n",
       "       [ 79.8 ,  46.75,  63.83,  53.94,  71.92],\n",
       "       [ 80.63,    nan,  66.06,  61.27,  72.91],\n",
       "       [ 80.8 ,  51.59,  69.22,  65.44,  74.39],\n",
       "       [ 80.28,  57.8 ,  72.07,  56.51,  73.1 ],\n",
       "       [ 78.99,  62.14,  69.31,  53.  ,  70.24],\n",
       "       [ 76.77,  56.76,  65.18,  43.87,  69.12],\n",
       "       [ 76.09,  50.85,  62.13,  42.12,  68.98],\n",
       "       [ 76.36,  46.43,  64.17,  43.98,  68.58],\n",
       "       [ 77.16,  46.73,  65.5 ,  44.66,  69.5 ],\n",
       "       [ 77.5 ,  45.85,  66.85,  47.73,  70.14],\n",
       "       [ 79.03,  49.25,  68.38,  52.31,  70.58],\n",
       "       [ 80.28,  48.14,  68.77,  56.8 ,  70.78],\n",
       "       [ 80.05,  49.18,  69.32,  51.15,  72.78],\n",
       "       [ 78.11,  49.49,  69.77,  54.63,  72.84],\n",
       "       [ 76.9 ,  49.83,  70.17,  55.8 ,  74.74],\n",
       "       [ 77.68,  49.14,  70.76,  57.31,  76.43],\n",
       "       [ 76.05,  63.21,  75.16,  53.81,  81.2 ],\n",
       "       [ 75.53,  61.2 ,  74.86,  55.5 ,  82.04],\n",
       "       [ 73.39,  60.34,  71.47,  52.95,  79.67],\n",
       "       [ 78.36,  62.2 ,  76.08,  53.29,  81.25],\n",
       "       [ 89.16,  74.2 ,  82.11,  54.86,  85.88],\n",
       "       [105.43,  75.32,  94.63,  71.72,  91.35],\n",
       "       [104.82,  75.92,  98.54,  74.36, 101.32],\n",
       "       [101.15,  72.89,  97.84,  78.25, 102.45],\n",
       "       [ 98.63,  74.85,  94.54,  70.63,  98.18],\n",
       "       [ 99.96,  92.19,  97.88,  77.06, 105.1 ],\n",
       "       [ 97.29,  99.7 ,  97.73,  81.52, 104.85],\n",
       "       [ 98.64, 102.78, 100.89,  84.12, 111.48],\n",
       "       [104.26,  92.67, 104.88,  83.33, 118.51],\n",
       "       [102.63,  90.63, 104.39,  66.98, 118.92],\n",
       "       [ 98.64,  83.31, 101.9 ,  62.04, 109.87],\n",
       "       [ 97.17,  75.5 ,  98.99,  59.79, 105.22],\n",
       "       [ 98.09,  74.6 ,  99.42,  66.06, 105.45],\n",
       "       [103.07,  76.94, 106.37,  71.99, 115.61],\n",
       "       [110.26,  83.04, 113.89,  76.79, 116.61],\n",
       "       [110.84,  80.74, 114.78,  80.98, 120.39],\n",
       "       [112.28,  80.29, 115.6 ,  89.18, 119.2 ],\n",
       "       [111.1 ,  82.82, 115.89,  92.71, 119.92],\n",
       "       [110.06,  86.29, 117.66,  94.85, 120.57],\n",
       "       [113.7 ,  87.41, 118.27,  99.18, 123.37],\n",
       "       [112.88,  85.1 , 114.19,  86.33, 121.39],\n",
       "       [102.08,  78.08, 101.81,  71.94, 118.16],\n",
       "       [ 95.54,  76.06,  91.62,  67.18, 108.84],\n",
       "       [ 91.33,  69.23,  90.15,  62.98, 100.78],\n",
       "       [ 89.99,  69.04,  90.55,  69.45,  99.92],\n",
       "       [ 91.44,  64.48,  92.3 ,  67.56, 100.65],\n",
       "       [ 93.51,  65.73,  91.75,  67.92,  98.92],\n",
       "       [ 93.6 ,  67.2 ,  92.  ,  68.4 , 100.31],\n",
       "       [ 93.78,  70.25,  92.57,  67.97,  96.41],\n",
       "       [ 98.91,  82.59, 100.28,  76.33, 101.24],\n",
       "       [121.76,  92.12, 114.33,  95.79, 118.7 ],\n",
       "       [129.6 , 100.82, 122.17, 112.36, 133.29],\n",
       "       [127.9 ,  95.23, 117.83,  82.03, 130.31],\n",
       "       [114.55,  89.51, 112.49,  73.83, 122.4 ],\n",
       "       [101.88,  82.84,  93.7 ,  66.12, 104.98],\n",
       "       [ 99.09,  82.3 ,  97.17,  63.24, 107.54],\n",
       "       [103.35,  83.76,  95.64,  63.98, 110.74],\n",
       "       [106.58,  84.72, 102.21,  69.1 , 110.51],\n",
       "       [108.  ,  83.91, 107.58,  70.04, 111.46],\n",
       "       [114.95,  99.14, 110.48,  80.03, 113.42],\n",
       "       [121.17, 101.6 , 117.73,  87.92, 118.15],\n",
       "       [122.48, 113.03, 122.07,  97.07, 114.  ],\n",
       "       [127.58, 119.54, 128.58, 106.52, 124.91],\n",
       "       [131.89, 118.09, 131.12, 108.93, 126.06],\n",
       "       [129.36, 107.32, 127.08,  95.17, 123.3 ],\n",
       "       [104.26,  82.6 , 110.99,  74.31, 111.61],\n",
       "       [ 93.45,  77.4 ,  97.43,  62.63,  98.82],\n",
       "       [ 92.93,  71.77,  92.05,  69.92,  97.47],\n",
       "       [ 96.15,  71.25,  93.21,  70.58, 103.01],\n",
       "       [ 99.1 ,  71.35,  98.58,  74.63, 109.36],\n",
       "       [103.  ,  73.62, 100.23,  78.69, 104.79],\n",
       "       [103.31,  76.2 , 102.09,  81.82, 105.09],\n",
       "       [103.01,  74.15, 101.73,  82.36, 103.16],\n",
       "       [107.37,  75.67, 107.28,  89.44, 106.52],\n",
       "       [116.91,  79.2 , 115.35, 102.01, 121.68],\n",
       "       [125.29,  80.85, 123.03, 116.12, 125.32],\n",
       "       [123.94,  85.33, 123.08,  92.06, 123.41],\n",
       "       [113.03,  75.02, 109.71,  82.7 , 108.48],\n",
       "       [102.19,  77.95,  97.22,  66.62,  98.73],\n",
       "       [ 97.83,  78.98,  95.75,  68.11,  96.25],\n",
       "       [101.07,  76.55,  97.09,  73.48, 100.12],\n",
       "       [103.44,  74.89,  98.18,  82.04, 101.29],\n",
       "       [108.23,  70.  , 103.1 ,  81.19, 102.81],\n",
       "       [110.28,  81.53, 110.6 ,  95.05, 108.53]])"
      ]
     },
     "execution_count": 34,
     "metadata": {},
     "output_type": "execute_result"
    }
   ],
   "source": [
    "precos = df_macas_t[:,1:6]\n",
    "precos"
   ]
  },
  {
   "cell_type": "code",
   "execution_count": null,
   "id": "295b76c2",
   "metadata": {},
   "outputs": [
    {
     "data": {
      "image/png": "[encoded data removed]",
      "text/plain": [
       "<Figure size 1500x500 with 1 Axes>"
      ]
     },
     "metadata": {},
     "output_type": "display_data"
    }
   ],
   "source": [
    "import matplotlib.pyplot as plt\n",
    "datas = np.arange(1,88,1) #Array gerado com os 87 meses \n",
    "\n",
    "plt.figure(figsize =(15,5))\n",
    "plt.plot(datas, precos[:,0])\n",
    "plt.show()"
   ]
  },
  {
   "cell_type": "code",
   "execution_count": 44,
   "id": "3c8d14c4",
   "metadata": {},
   "outputs": [],
   "source": [
    "Moscow = precos[:, 0]\n",
    "Kaliningrad = precos[:, 1]\n",
    "Petersburg = precos[:, 2]\n",
    "Krasnodar = precos[:, 3]\n",
    "Ekaterinburg = precos[:, 4]"
   ]
  },
  {
   "cell_type": "code",
   "execution_count": 46,
   "id": "b6f8612b",
   "metadata": {},
   "outputs": [],
   "source": [
    "\n",
    "Moscow_ano1 = Moscow[0:12] \n",
    "Moscow_ano2 = Moscow[12:24]\n",
    "Moscow_ano3 = Moscow[24:36]\n",
    "Moscow_ano4 = Moscow[36:48]"
   ]
  },
  {
   "cell_type": "code",
   "execution_count": 54,
   "id": "784b4e85",
   "metadata": {},
   "outputs": [
    {
     "data": {
      "image/png": "[encoded data removed]",
      "text/plain": [
       "<Figure size 800x500 with 1 Axes>"
      ]
     },
     "metadata": {},
     "output_type": "display_data"
    }
   ],
   "source": [
    "x = np.arange(1,13,1) #Array gerado com os 87 meses \n",
    "\n",
    "plt.figure(figsize =(8,5))\n",
    "\n",
    "plt.plot(x, Moscow_ano1, label = \"Ano 1\")\n",
    "plt.plot(x, Moscow_ano2, label = \"Ano 2\")\n",
    "plt.plot(x, Moscow_ano3, label = \"Ano 3\")\n",
    "plt.plot(x, Moscow_ano4, label = \"Ano 4\")\n",
    "plt.legend()\n",
    "plt.show()\n"
   ]
  },
  {
   "cell_type": "code",
   "execution_count": 56,
   "id": "111d4f93",
   "metadata": {},
   "outputs": [
    {
     "data": {
      "text/plain": [
       "False"
      ]
     },
     "execution_count": 56,
     "metadata": {},
     "output_type": "execute_result"
    }
   ],
   "source": [
    "#A função np.array_equal verifica se dois arrays são iguais\n",
    "np.array_equal(Moscow_ano3, Moscow_ano4)"
   ]
  },
  {
   "cell_type": "code",
   "execution_count": 58,
   "id": "c67538f6",
   "metadata": {},
   "outputs": [
    {
     "data": {
      "text/plain": [
       "True"
      ]
     },
     "execution_count": 58,
     "metadata": {},
     "output_type": "execute_result"
    }
   ],
   "source": [
    "#A função np.allclose verifica se arrays são próximos (dentro de um intervalo)\n",
    "np.allclose(Moscow_ano3, Moscow_ano4, 10)"
   ]
  },
  {
   "cell_type": "markdown",
   "id": "cc137c1c",
   "metadata": {},
   "source": [
    "##### Lidando com NaN"
   ]
  },
  {
   "cell_type": "code",
   "execution_count": 59,
   "id": "b1daf886",
   "metadata": {},
   "outputs": [
    {
     "data": {
      "text/plain": [
       "[<matplotlib.lines.Line2D at 0x22378b78c50>]"
      ]
     },
     "execution_count": 59,
     "metadata": {},
     "output_type": "execute_result"
    },
    {
     "data": {
      "image/png": "[encoded data removed]",
      "text/plain": [
       "<Figure size 640x480 with 1 Axes>"
      ]
     },
     "metadata": {},
     "output_type": "display_data"
    }
   ],
   "source": [
    "plt.plot(datas, Kaliningrad)"
   ]
  },
  {
   "cell_type": "code",
   "execution_count": 60,
   "id": "94264578",
   "metadata": {},
   "outputs": [
    {
     "data": {
      "text/plain": [
       "array([ 42.67,  44.37,  44.73,  46.75,    nan,  51.59,  57.8 ,  62.14,\n",
       "        56.76,  50.85,  46.43,  46.73,  45.85,  49.25,  48.14,  49.18,\n",
       "        49.49,  49.83,  49.14,  63.21,  61.2 ,  60.34,  62.2 ,  74.2 ,\n",
       "        75.32,  75.92,  72.89,  74.85,  92.19,  99.7 , 102.78,  92.67,\n",
       "        90.63,  83.31,  75.5 ,  74.6 ,  76.94,  83.04,  80.74,  80.29,\n",
       "        82.82,  86.29,  87.41,  85.1 ,  78.08,  76.06,  69.23,  69.04,\n",
       "        64.48,  65.73,  67.2 ,  70.25,  82.59,  92.12, 100.82,  95.23,\n",
       "        89.51,  82.84,  82.3 ,  83.76,  84.72,  83.91,  99.14, 101.6 ,\n",
       "       113.03, 119.54, 118.09, 107.32,  82.6 ,  77.4 ,  71.77,  71.25,\n",
       "        71.35,  73.62,  76.2 ,  74.15,  75.67,  79.2 ,  80.85,  85.33,\n",
       "        75.02,  77.95,  78.98,  76.55,  74.89,  70.  ,  81.53])"
      ]
     },
     "execution_count": 60,
     "metadata": {},
     "output_type": "execute_result"
    }
   ],
   "source": [
    "Kaliningrad"
   ]
  },
  {
   "cell_type": "code",
   "execution_count": 65,
   "id": "d4b92b7c",
   "metadata": {},
   "outputs": [
    {
     "data": {
      "text/plain": [
       "np.int64(1)"
      ]
     },
     "execution_count": 65,
     "metadata": {},
     "output_type": "execute_result"
    }
   ],
   "source": [
    "#Verificando a quantidade de Nan's\n",
    "#np.isnan verifica valores não numéricos\n",
    "sum(np.isnan(Kaliningrad))"
   ]
  },
  {
   "cell_type": "code",
   "execution_count": null,
   "id": "4a09d88a",
   "metadata": {},
   "outputs": [
    {
     "data": {
      "text/plain": [
       "np.float64(49.17)"
      ]
     },
     "execution_count": 66,
     "metadata": {},
     "output_type": "execute_result"
    }
   ],
   "source": [
    "#Ajuste interpolando o valor Nan, calculando um valor intermediário entre a média do valor após e anterior ao nan\n",
    "\n",
    "(Kaliningrad[3] + Kaliningrad[5]) / 2"
   ]
  },
  {
   "cell_type": "code",
   "execution_count": 70,
   "id": "571ddfcf",
   "metadata": {},
   "outputs": [
    {
     "data": {
      "text/plain": [
       "np.float64(49.17)"
      ]
     },
     "execution_count": 70,
     "metadata": {},
     "output_type": "execute_result"
    }
   ],
   "source": [
    "#Ajuste com a função Mean\n",
    "Kaliningrad[4] = np.mean([Kaliningrad[3],Kaliningrad[5]])\n",
    "Kaliningrad[4]"
   ]
  },
  {
   "cell_type": "code",
   "execution_count": null,
   "id": "8fcbc80e",
   "metadata": {},
   "outputs": [
    {
     "data": {
      "text/plain": [
       "[<matplotlib.lines.Line2D at 0x2237854ee40>]"
      ]
     },
     "execution_count": 71,
     "metadata": {},
     "output_type": "execute_result"
    },
    {
     "data": {
      "image/png": "[encoded data removed]",
      "text/plain": [
       "<Figure size 640x480 with 1 Axes>"
      ]
     },
     "metadata": {},
     "output_type": "display_data"
    }
   ],
   "source": [
    "#Plot do gráfico com o valor nan preenchido\n",
    "plt.plot(datas, Kaliningrad)"
   ]
  },
  {
   "cell_type": "code",
   "execution_count": 72,
   "id": "0bea37b8",
   "metadata": {},
   "outputs": [
    {
     "data": {
      "text/plain": [
       "np.float64(98.79781609195402)"
      ]
     },
     "execution_count": 72,
     "metadata": {},
     "output_type": "execute_result"
    }
   ],
   "source": [
    "np.mean(Moscow)"
   ]
  },
  {
   "cell_type": "code",
   "execution_count": 73,
   "id": "cfa7290e",
   "metadata": {},
   "outputs": [
    {
     "data": {
      "text/plain": [
       "np.float64(74.5506896551724)"
      ]
     },
     "execution_count": 73,
     "metadata": {},
     "output_type": "execute_result"
    }
   ],
   "source": [
    "np.mean(Kaliningrad)"
   ]
  },
  {
   "cell_type": "code",
   "execution_count": null,
   "id": "526faa38",
   "metadata": {},
   "outputs": [],
   "source": []
  }
 ],
 "metadata": {
  "kernelspec": {
   "display_name": "Python 3",
   "language": "python",
   "name": "python3"
  },
  "language_info": {
   "codemirror_mode": {
    "name": "ipython",
    "version": 3
   },
   "file_extension": ".py",
   "mimetype": "text/x-python",
   "name": "python",
   "nbconvert_exporter": "python",
   "pygments_lexer": "ipython3",
   "version": "3.12.6"
  }
 },
 "nbformat": 4,
 "nbformat_minor": 5
}
